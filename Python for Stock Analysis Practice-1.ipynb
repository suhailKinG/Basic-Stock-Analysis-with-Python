{
 "cells": [
  {
   "cell_type": "code",
   "execution_count": 19,
   "metadata": {},
   "outputs": [
    {
     "name": "stdout",
     "output_type": "stream",
     "text": [
      "T\n",
      "e\n",
      "s\n",
      "l\n",
      "a\n",
      "*\n",
      "*\n",
      "s\n",
      "h\n",
      "d\n",
      "f\n",
      "k\n",
      "*\n",
      "*\n"
     ]
    }
   ],
   "source": [
    "car = 'Teslattshdfktt'\n",
    "for i in car:\n",
    "    if i == 't':\n",
    "        print('*')\n",
    "    else:\n",
    "        print(i)\n",
    " \n"
   ]
  },
  {
   "cell_type": "code",
   "execution_count": 15,
   "metadata": {},
   "outputs": [
    {
     "name": "stdout",
     "output_type": "stream",
     "text": [
      "Enter the min input:1\n",
      "Enter the max input:8\n",
      "2\n",
      "4\n",
      "6\n"
     ]
    }
   ],
   "source": [
    "min = int(input(\"Enter the min input:\"))\n",
    "max = int(input(\"Enter the max input:\"))\n",
    "for i in range(min,max):\n",
    "    if i%2==0:\n",
    "        print(i)  \n",
    "    "
   ]
  },
  {
   "cell_type": "code",
   "execution_count": 17,
   "metadata": {},
   "outputs": [
    {
     "name": "stdout",
     "output_type": "stream",
     "text": [
      "Enter the min input:1\n",
      "Enter the max input:10\n",
      "1 1 1\n",
      "2 4 8\n",
      "3 9 27\n",
      "4 16 64\n",
      "5 25 125\n",
      "6 36 216\n",
      "7 49 343\n",
      "8 64 512\n",
      "9 81 729\n"
     ]
    }
   ],
   "source": [
    "min = int(input(\"Enter the min input:\"))\n",
    "max = int(input(\"Enter the max input:\"))\n",
    "for i in range(min,max):\n",
    "    print(i , i*i , i*i*i)\n",
    "    \n",
    "         "
   ]
  },
  {
   "cell_type": "code",
   "execution_count": 21,
   "metadata": {
    "scrolled": true
   },
   "outputs": [
    {
     "name": "stdout",
     "output_type": "stream",
     "text": [
      "1\n",
      "2\n",
      "3\n",
      "4\n",
      "5\n",
      "6\n",
      "7\n",
      "8\n",
      "9\n",
      "10\n",
      "11\n",
      "12\n",
      "13\n",
      "14\n",
      "15\n",
      "16\n",
      "17\n",
      "18\n",
      "19\n",
      "20\n",
      "21\n",
      "22\n",
      "23\n",
      "24\n",
      "25\n",
      "26\n",
      "27\n",
      "28\n",
      "29\n",
      "30\n"
     ]
    }
   ],
   "source": [
    "i = 1\n",
    "while i<=30:\n",
    "    print(i)\n",
    "    i = i + 1"
   ]
  },
  {
   "cell_type": "code",
   "execution_count": 1,
   "metadata": {},
   "outputs": [
    {
     "name": "stdout",
     "output_type": "stream",
     "text": [
      "Rolling dice, please wait\n",
      "Rolling dice, #1: 4\n",
      "Rolling dice, #2: 4\n",
      "Do you want to continue:y\n",
      "Rolling dice, please wait\n",
      "Rolling dice, #1: 5\n",
      "Rolling dice, #2: 2\n",
      "Do you want to continue:y\n",
      "Rolling dice, please wait\n",
      "Rolling dice, #1: 5\n",
      "Rolling dice, #2: 1\n",
      "Do you want to continue:j\n"
     ]
    }
   ],
   "source": [
    "import random\n",
    "Keep_Rolling = 'y'\n",
    "\n",
    "while Keep_Rolling == 'y':\n",
    "    print(\"Rolling dice, please wait\")\n",
    "    print(\"Rolling dice, #1:\", random.randint(1,6))\n",
    "    print(\"Rolling dice, #2:\", random.randint(1,6))\n",
    "    \n",
    "    Keep_Rolling = input('Do you want to continue:')"
   ]
  },
  {
   "cell_type": "code",
   "execution_count": 29,
   "metadata": {},
   "outputs": [
    {
     "name": "stdout",
     "output_type": "stream",
     "text": [
      "Enter a number:2\n",
      "2.0\n",
      "Enter a number:2\n",
      "2.0\n",
      "Enter a number:2\n",
      "2.0\n",
      "Enter a number:2\n",
      "2.0\n",
      "Enter a number:5\n",
      "2.6\n",
      "Enter a number:5\n",
      "3.0\n",
      "Enter a number:e\n"
     ]
    }
   ],
   "source": [
    "# current average \n",
    "avg = 0\n",
    "n = 0\n",
    "\n",
    "while True:\n",
    "    x = input('Enter a number:')\n",
    "    \n",
    "    if x== 'e':\n",
    "        break\n",
    "    \n",
    "    x = int(x)\n",
    "    n = n + 1\n",
    "    \n",
    "    avg = ((avg * (n-1) + x) / n)\n",
    "    print(avg)"
   ]
  },
  {
   "cell_type": "code",
   "execution_count": 54,
   "metadata": {},
   "outputs": [
    {
     "name": "stdout",
     "output_type": "stream",
     "text": [
      "Enter a number between 1 and 9: 1\n",
      "1 + 1 = 1\n",
      "1 + 2 = 2\n",
      "1 + 3 = 3\n",
      "1 + 4 = 4\n",
      "1 + 5 = 5\n",
      "1 + 6 = 6\n",
      "1 + 7 = 7\n",
      "1 + 8 = 8\n",
      "1 + 9 = 9\n",
      "1 + 10 = 10\n"
     ]
    }
   ],
   "source": [
    "    n = int(input('Enter a number between 1 and 9: '))\n",
    "    for i in range(1,n+1):\n",
    "        for j in range(1,11):\n",
    "            print('{} + {} = {}'.format(i, j, i*j))"
   ]
  },
  {
   "cell_type": "code",
   "execution_count": 60,
   "metadata": {},
   "outputs": [
    {
     "name": "stdout",
     "output_type": "stream",
     "text": [
      "[4, 16]\n"
     ]
    }
   ],
   "source": [
    "input_list = [1,2,3,4,5]\n",
    "output_list = []\n",
    "\n",
    "for i in input_list:\n",
    "    if i%2 == 0:\n",
    "        output_list.append(i ** 2)\n",
    "        \n",
    "print(output_list)   "
   ]
  },
  {
   "cell_type": "code",
   "execution_count": 61,
   "metadata": {},
   "outputs": [
    {
     "data": {
      "text/plain": [
       "[4, 16]"
      ]
     },
     "execution_count": 61,
     "metadata": {},
     "output_type": "execute_result"
    }
   ],
   "source": [
    "# List comprehension\n",
    "output_list = [ i ** 2  for i in input_list  if i%2 == 0]\n",
    "output_list"
   ]
  },
  {
   "cell_type": "code",
   "execution_count": 1,
   "metadata": {},
   "outputs": [
    {
     "name": "stdout",
     "output_type": "stream",
     "text": [
      "Stock Prices: \n",
      "[4, 5, 2, 7, 8]\n",
      "[1.0, 1.25, 0.5, 1.75, 2.0]\n"
     ]
    }
   ],
   "source": [
    "print('Stock Prices: ')\n",
    "\n",
    "Stock_Prices = [4, 5 , 2 , 7 , 8]\n",
    "\n",
    "print(Stock_Prices)\n",
    "\n",
    "Normalized_Prices = [i/Stock_Prices[0]  for i in Stock_Prices]\n",
    "print(Normalized_Prices)"
   ]
  },
  {
   "cell_type": "code",
   "execution_count": 3,
   "metadata": {},
   "outputs": [
    {
     "name": "stdout",
     "output_type": "stream",
     "text": [
      "4\n"
     ]
    }
   ],
   "source": [
    "x = [-1, -4 , -7]\n",
    "y = [-3, 7, 4]\n",
    "z = abs(sum(x+y)) #abs = absolute\n",
    "print(z)"
   ]
  },
  {
   "cell_type": "code",
   "execution_count": 5,
   "metadata": {},
   "outputs": [
    {
     "name": "stdout",
     "output_type": "stream",
     "text": [
      "Total number of shares: 5\n",
      "Total number of prices: 10\n",
      "Total account balance = 50\n"
     ]
    }
   ],
   "source": [
    "#Function\n",
    "def total(units, cost):\n",
    "    amount = units*cost\n",
    "    return amount\n",
    "\n",
    "shares = int(input('Total number of shares: '))\n",
    "prices = int(input('Total number of prices: '))\n",
    "\n",
    "acc_bal = total(shares, prices)\n",
    "print('Total account balance = {}'.format(acc_bal))\n"
   ]
  },
  {
   "cell_type": "code",
   "execution_count": 6,
   "metadata": {},
   "outputs": [
    {
     "name": "stdout",
     "output_type": "stream",
     "text": [
      "Total number of shares: 5\n",
      "Total number of prices: 10\n",
      "Total account balance = 50\n"
     ]
    }
   ],
   "source": [
    "#Lambda expression\n",
    "total = lambda units, cost: units*cost\n",
    "shares = int(input('Total number of shares: '))\n",
    "prices = int(input('Total number of prices: '))\n",
    "\n",
    "acc_bal = total(shares, prices)\n",
    "print('Total account balance = {}'.format(acc_bal))\n",
    "\n"
   ]
  },
  {
   "cell_type": "code",
   "execution_count": 15,
   "metadata": {},
   "outputs": [],
   "source": [
    "def cube(x):\n",
    "    return x**3\n"
   ]
  },
  {
   "cell_type": "code",
   "execution_count": 25,
   "metadata": {},
   "outputs": [
    {
     "data": {
      "text/plain": [
       "[-10, -9, -8, -7, -6, -5, -4, -3, -2, -1, 0, 1, 2, 3, 4, 5, 6, 7, 8, 9, 10]"
      ]
     },
     "execution_count": 25,
     "metadata": {},
     "output_type": "execute_result"
    }
   ],
   "source": [
    "numbers = list(range(-10, 11))\n",
    "numbers"
   ]
  },
  {
   "cell_type": "code",
   "execution_count": 29,
   "metadata": {},
   "outputs": [
    {
     "data": {
      "text/plain": [
       "[-1000,\n",
       " -729,\n",
       " -512,\n",
       " -343,\n",
       " -216,\n",
       " -125,\n",
       " -64,\n",
       " -27,\n",
       " -8,\n",
       " -1,\n",
       " 0,\n",
       " 1,\n",
       " 8,\n",
       " 27,\n",
       " 64,\n",
       " 125,\n",
       " 216,\n",
       " 343,\n",
       " 512,\n",
       " 729,\n",
       " 1000]"
      ]
     },
     "execution_count": 29,
     "metadata": {},
     "output_type": "execute_result"
    }
   ],
   "source": [
    "out_put = list( map(lambda x: x**3, numbers))\n",
    "out_put"
   ]
  },
  {
   "cell_type": "code",
   "execution_count": 34,
   "metadata": {},
   "outputs": [
    {
     "data": {
      "text/plain": [
       "[10, 27, 33, 45]"
      ]
     },
     "execution_count": 34,
     "metadata": {},
     "output_type": "execute_result"
    }
   ],
   "source": [
    "prices = [67, 10, 27, 100 , 33, 45]\n",
    "out = list(filter(lambda x: (x>=10 and x<=50), prices))\n",
    "out"
   ]
  },
  {
   "cell_type": "code",
   "execution_count": 1,
   "metadata": {},
   "outputs": [
    {
     "name": "stdout",
     "output_type": "stream",
     "text": [
      "Enter the min input:-6\n",
      "Enter the max input:15\n",
      "[0, 1, 2, 3, 4, 5, 6, 7, 8, 9, 10, 11, 12, 13, 14]\n",
      "[-6, -5, -4, -3, -2, -1]\n"
     ]
    },
    {
     "data": {
      "text/plain": [
       "[0, 2, 4, 6, 8, 10, 12, 14]"
      ]
     },
     "execution_count": 1,
     "metadata": {},
     "output_type": "execute_result"
    }
   ],
   "source": [
    "\n",
    "min = int(input(\"Enter the min input:\"))\n",
    "max = int(input(\"Enter the max input:\"))\n",
    "\n",
    "numbers = range(min, max)\n",
    "positive = list(filter(lambda x: (x>=0), numbers))\n",
    "print(positive)\n",
    "negative = list(filter(lambda x: (x<0), numbers))\n",
    "print(negative)\n",
    "positiveAndEven = list(filter(lambda x: (x>=0 and x%2==0), numbers))\n",
    "positiveAndEven"
   ]
  },
  {
   "cell_type": "code",
   "execution_count": 2,
   "metadata": {},
   "outputs": [
    {
     "name": "stdout",
     "output_type": "stream",
     "text": [
      "[[ 4  6  8  7]\n",
      " [20  5  6  9]]\n"
     ]
    }
   ],
   "source": [
    "import numpy as np\n",
    "matrix = np.array([[4,6,8,7],[20,5,6,9]])\n",
    "print(matrix)"
   ]
  },
  {
   "cell_type": "code",
   "execution_count": 6,
   "metadata": {},
   "outputs": [
    {
     "name": "stdout",
     "output_type": "stream",
     "text": [
      "5\n",
      "[3 3 1 4 0 2 2 1 2 0 0 1 4 3 1 2 1 2 1 0]\n"
     ]
    }
   ],
   "source": [
    "x = int(input())\n",
    "num1 = np.random.randint(0,x,20)\n",
    "print(num1)"
   ]
  },
  {
   "cell_type": "code",
   "execution_count": 12,
   "metadata": {},
   "outputs": [
    {
     "data": {
      "text/plain": [
       "dtype('int32')"
      ]
     },
     "execution_count": 12,
     "metadata": {},
     "output_type": "execute_result"
    }
   ],
   "source": [
    "num1.dtype"
   ]
  },
  {
   "cell_type": "code",
   "execution_count": 27,
   "metadata": {},
   "outputs": [
    {
     "data": {
      "text/plain": [
       "array([300, 310, 320, 330, 340, 350, 360, 370, 380, 390, 400, 410, 420,\n",
       "       430, 440, 450, 460, 470, 480, 490])"
      ]
     },
     "execution_count": 27,
     "metadata": {},
     "output_type": "execute_result"
    }
   ],
   "source": [
    "num2 = np.arange(300,500,10)\n",
    "#num2 = np.random.rand(4,5)\n",
    "num2"
   ]
  },
  {
   "cell_type": "code",
   "execution_count": 28,
   "metadata": {},
   "outputs": [
    {
     "data": {
      "text/plain": [
       "array([[300, 310, 320, 330, 340],\n",
       "       [350, 360, 370, 380, 390],\n",
       "       [400, 410, 420, 430, 440],\n",
       "       [450, 460, 470, 480, 490]])"
      ]
     },
     "execution_count": 28,
     "metadata": {},
     "output_type": "execute_result"
    }
   ],
   "source": [
    "num2.reshape(4,5)"
   ]
  },
  {
   "cell_type": "code",
   "execution_count": 38,
   "metadata": {},
   "outputs": [
    {
     "data": {
      "text/plain": [
       "array([[-570,   60,  246,  711,  249,  324, -391,  542,   -3,  771, -842,\n",
       "        -615,  277,  151,   48,  519,  148, -359,  491, -520],\n",
       "       [-285,  495,  788,  718,  623, -257, -824, -284,  554,  983,  -52,\n",
       "        -264, -720, -793,    6, -912, -457,  933,  254, -743],\n",
       "       [-554,  586, -215, -638,  878, -341, -228,  387, -519, -968,  198,\n",
       "        -235, -837,  393,   -9,  777,  169, -772,  221,  641],\n",
       "       [ -13,   76,  -95,  205, -818,  498,  216, -374,  287, -425, -428,\n",
       "        -880, -541, -255, -316,  345, -516,  -75,  871,  179],\n",
       "       [-174,  785, -217, -771, -938,  227, -191, -824, -772, -442,  977,\n",
       "        -717,  539,  511,  -13,   42,  983,  651, -548,  747],\n",
       "       [ 445,   12,  281, -543, -196, -457,  518, -527,  -13, -782,  577,\n",
       "        -239, -566, -243,  787, -133,  327,  728,  291,  217],\n",
       "       [ 396,   56, -971,  715, -644,  118,  156,  775,  548, -698,  218,\n",
       "          29, -872,  118,  841,  874,  659, -930, -197, -339],\n",
       "       [ 876,  -54, -590,  993,  163, -230,  -83, -920,  864,   78, -511,\n",
       "         731,  175, -815, -550,  921, -636,  891,  -58,  988],\n",
       "       [-376,  190,  588, -833, -701, -106, -431, -572, -596,  -80,  286,\n",
       "        -761,  251, -949,  257, -274,  621, -454, -405,  763],\n",
       "       [  78, -541,   63,  288, -541, -322,  996, -289,  218,  890,  373,\n",
       "         241, -490,  417, -314,  -90,  436, -505, -236,  911],\n",
       "       [ 602,  452, -469, -314,  882,  592, -875, -841,  281, -347, -741,\n",
       "        -106,  480,  645, -759,   71, -366,  690,  916,  957],\n",
       "       [ 547, -478,   69,  822,  233, -817,  862,  667,  165, -421, -314,\n",
       "        -976,  123, -627,  207,  597, -678, -276, -114, -514],\n",
       "       [ 274,  538,  750,  127, -514, -388, -689,  793, -388,  879,  522,\n",
       "         166, -637,  292,  834,  129, -915,  326,  492,  412],\n",
       "       [-770,  141,  725,  232,  547,  333,   24,  501,  729, -963, -836,\n",
       "          51,  233,  -58,  -77,  461,  735, -636,  545, -740],\n",
       "       [-402, -956, -374,  229, -517, -415, -740, -856,  467,  756, -880,\n",
       "          63, -590,  -67, -778,  648, -189,   30,  399,  227],\n",
       "       [ 966,  782, -821,   62,  767, -827,   -2,  373,  764,  757,  787,\n",
       "         237,  726, -989,  844,  438,  148,  320,  127,  933],\n",
       "       [-177, -849,  590, -597, -424, -264, -563, -571,  619,   56,  637,\n",
       "         546,  640,  722, -686, -108,  772,  589,  625,  508],\n",
       "       [ 100, -161,  -96, -871,  762,   32,  861,  406,  100, -619, -668,\n",
       "        -333, -104,  825,  378, -372, -563, -458, -574, -615],\n",
       "       [ 979, -608,  728, -996, -113, -370, -491,  592,  622, -171,  -61,\n",
       "         -82,  129, -790, -810,  168, -973,  719,  280, -470],\n",
       "       [-817, -618, -290, -578, -887,  701, -817, -815, -245, -447,  397,\n",
       "        -611,  273, -541, -319,  -90, -490,  447,  149, -817]])"
      ]
     },
     "execution_count": 38,
     "metadata": {},
     "output_type": "execute_result"
    }
   ],
   "source": [
    "num3 = np.random.randint(-1000,1000,(20,20))\n",
    "num3\n",
    "#num3.reshape(20,20)\n",
    "\n"
   ]
  },
  {
   "cell_type": "code",
   "execution_count": 42,
   "metadata": {},
   "outputs": [
    {
     "data": {
      "text/plain": [
       "array([[-570,   60,  246,  711,  249,  324, -391,  542,   -3,  771, -842,\n",
       "        -615,  277,  151,   48,  519,  148, -359,  491, -520],\n",
       "       [-285,  495,  788,  718,  623, -257, -824, -284,  554,  983,  -52,\n",
       "        -264, -720, -793,    6, -912, -457,  933,  254, -743],\n",
       "       [-554,  586, -215, -638,  878, -341, -228,  387, -519, -968,  198,\n",
       "        -235, -837,  393,   -9,  777,  169, -772,  221,  641],\n",
       "       [ -13,   76,  -95,  205, -818,  498,  216, -374,  287, -425, -428,\n",
       "        -880, -541, -255, -316,  345, -516,  -75,  871,  179],\n",
       "       [-174,  785, -217, -771, -938,  227, -191, -824, -772, -442,  977,\n",
       "        -717,  539,  511,  -13,   42,  983,  651, -548,  747],\n",
       "       [ 445,   12,  281, -543, -196, -457,  518, -527,  -13, -782,  577,\n",
       "        -239, -566, -243,  787, -133,  327,  728,  291,  217],\n",
       "       [ 396,   56, -971,  715, -644,  118,  156,  775,  548, -698,  218,\n",
       "          29, -872,  118,  841,  874,  659, -930, -197, -339],\n",
       "       [ 876,  -54, -590,  993,  163, -230,  -83, -920,  864,   78, -511,\n",
       "         731,  175, -815, -550,  921, -636,  891,  -58,  988],\n",
       "       [-376,  190,  588, -833, -701, -106, -431, -572, -596,  -80,  286,\n",
       "        -761,  251, -949,  257, -274,  621, -454, -405,  763],\n",
       "       [  78, -541,   63,  288, -541, -322,  996, -289,  218,  890,  373,\n",
       "         241, -490,  417, -314,  -90,  436, -505, -236,  911],\n",
       "       [ 602,  452, -469, -314,  882,  592, -875, -841,  281, -347, -741,\n",
       "        -106,  480,  645, -759,   71, -366,  690,  916,  957],\n",
       "       [ 547, -478,   69,  822,  233, -817,  862,  667,  165, -421, -314,\n",
       "        -976,  123, -627,  207,  597, -678, -276, -114, -514],\n",
       "       [ 274,  538,  750,  127, -514, -388, -689,  793, -388,  879,  522,\n",
       "         166, -637,  292,  834,  129, -915,  326,  492,  412],\n",
       "       [-770,  141,  725,  232,  547,  333,   24,  501,  729, -963, -836,\n",
       "          51,  233,  -58,  -77,  461,  735, -636,  545, -740],\n",
       "       [-402, -956, -374,  229, -517, -415, -740, -856,  467,  756, -880,\n",
       "          63, -590,  -67, -778,  648, -189,   30,  399,  227],\n",
       "       [ 966,  782, -821,   62,  767, -827,   -2,  373,  764,  757,  787,\n",
       "         237,  726, -989,  844,  438,  148,  320,  127,  933],\n",
       "       [-177, -849,  590, -597, -424, -264, -563, -571,  619,   56,  637,\n",
       "         546,  640,  722, -686, -108,  772,  589,  625,  508],\n",
       "       [ 100, -161,  -96, -871,  762,   32,  861,  406,  100, -619, -668,\n",
       "        -333, -104,  825,  378, -372, -563, -458, -574, -615],\n",
       "       [ 979, -608,  728, -996, -113, -370, -491,  592,  622, -171,  -61,\n",
       "         -82,  129, -790, -810,  168, -973,  719,  280, -470],\n",
       "       [-817, -618, -290, -578, -887,  701, -817, -815, -245, -447,  397,\n",
       "        -611,  273, -541, -319,  -90, -490,  447,  149, -817]])"
      ]
     },
     "execution_count": 42,
     "metadata": {},
     "output_type": "execute_result"
    }
   ],
   "source": [
    "num3.reshape(20,20)"
   ]
  },
  {
   "cell_type": "code",
   "execution_count": 49,
   "metadata": {},
   "outputs": [
    {
     "data": {
      "text/plain": [
       "996"
      ]
     },
     "execution_count": 49,
     "metadata": {},
     "output_type": "execute_result"
    }
   ],
   "source": [
    "num3.max()"
   ]
  },
  {
   "cell_type": "code",
   "execution_count": 47,
   "metadata": {},
   "outputs": [
    {
     "data": {
      "text/plain": [
       "-996"
      ]
     },
     "execution_count": 47,
     "metadata": {},
     "output_type": "execute_result"
    }
   ],
   "source": [
    "num3.min()"
   ]
  },
  {
   "cell_type": "code",
   "execution_count": 48,
   "metadata": {},
   "outputs": [
    {
     "data": {
      "text/plain": [
       "-3.21"
      ]
     },
     "execution_count": 48,
     "metadata": {},
     "output_type": "execute_result"
    }
   ],
   "source": [
    "num3.mean()"
   ]
  },
  {
   "cell_type": "code",
   "execution_count": 8,
   "metadata": {},
   "outputs": [
    {
     "data": {
      "text/html": [
       "<div>\n",
       "<style scoped>\n",
       "    .dataframe tbody tr th:only-of-type {\n",
       "        vertical-align: middle;\n",
       "    }\n",
       "\n",
       "    .dataframe tbody tr th {\n",
       "        vertical-align: top;\n",
       "    }\n",
       "\n",
       "    .dataframe thead th {\n",
       "        text-align: right;\n",
       "    }\n",
       "</style>\n",
       "<table border=\"1\" class=\"dataframe\">\n",
       "  <thead>\n",
       "    <tr style=\"text-align: right;\">\n",
       "      <th></th>\n",
       "      <th>Stock</th>\n",
       "      <th>number of shares</th>\n",
       "      <th>price per share</th>\n",
       "    </tr>\n",
       "  </thead>\n",
       "  <tbody>\n",
       "    <tr>\n",
       "      <td>0</td>\n",
       "      <td>stock1</td>\n",
       "      <td>3</td>\n",
       "      <td>23</td>\n",
       "    </tr>\n",
       "    <tr>\n",
       "      <td>1</td>\n",
       "      <td>stock2</td>\n",
       "      <td>4</td>\n",
       "      <td>35</td>\n",
       "    </tr>\n",
       "    <tr>\n",
       "      <td>2</td>\n",
       "      <td>stock3</td>\n",
       "      <td>2</td>\n",
       "      <td>44</td>\n",
       "    </tr>\n",
       "    <tr>\n",
       "      <td>3</td>\n",
       "      <td>stock4</td>\n",
       "      <td>6</td>\n",
       "      <td>33</td>\n",
       "    </tr>\n",
       "    <tr>\n",
       "      <td>4</td>\n",
       "      <td>stock5</td>\n",
       "      <td>7</td>\n",
       "      <td>12</td>\n",
       "    </tr>\n",
       "    <tr>\n",
       "      <td>5</td>\n",
       "      <td>stock6</td>\n",
       "      <td>9</td>\n",
       "      <td>55</td>\n",
       "    </tr>\n",
       "  </tbody>\n",
       "</table>\n",
       "</div>"
      ],
      "text/plain": [
       "    Stock  number of shares  price per share\n",
       "0  stock1                 3               23\n",
       "1  stock2                 4               35\n",
       "2  stock3                 2               44\n",
       "3  stock4                 6               33\n",
       "4  stock5                 7               12\n",
       "5  stock6                 9               55"
      ]
     },
     "execution_count": 8,
     "metadata": {},
     "output_type": "execute_result"
    }
   ],
   "source": [
    "import pandas as pd\n",
    "portfolio = pd.DataFrame({'Stock':['stock1','stock2','stock3','stock4','stock5','stock6'],\n",
    "                          'number of shares':[3,4,2,6,7,9], \n",
    "                          'price per share':[23,35,44,33,12,55],\n",
    "                          })\n",
    "portfolio"
   ]
  },
  {
   "cell_type": "code",
   "execution_count": 9,
   "metadata": {},
   "outputs": [
    {
     "name": "stdout",
     "output_type": "stream",
     "text": [
      "0     69\n",
      "1    140\n",
      "2     88\n",
      "3    198\n",
      "4     84\n",
      "5    495\n",
      "dtype: int64\n"
     ]
    },
    {
     "data": {
      "text/plain": [
       "1074"
      ]
     },
     "execution_count": 9,
     "metadata": {},
     "output_type": "execute_result"
    }
   ],
   "source": [
    "portfolio_value = portfolio['number of shares'] * portfolio['price per share']\n",
    "print(portfolio_value)\n",
    "portfolio_value.sum()"
   ]
  },
  {
   "cell_type": "code",
   "execution_count": 10,
   "metadata": {},
   "outputs": [],
   "source": [
    "portfolio.to_csv('sample_output', index = True)"
   ]
  },
  {
   "cell_type": "code",
   "execution_count": 11,
   "metadata": {},
   "outputs": [
    {
     "data": {
      "text/html": [
       "<div>\n",
       "<style scoped>\n",
       "    .dataframe tbody tr th:only-of-type {\n",
       "        vertical-align: middle;\n",
       "    }\n",
       "\n",
       "    .dataframe tbody tr th {\n",
       "        vertical-align: top;\n",
       "    }\n",
       "\n",
       "    .dataframe thead th {\n",
       "        text-align: right;\n",
       "    }\n",
       "</style>\n",
       "<table border=\"1\" class=\"dataframe\">\n",
       "  <thead>\n",
       "    <tr style=\"text-align: right;\">\n",
       "      <th></th>\n",
       "      <th>Year of birth</th>\n",
       "      <th>Age</th>\n",
       "    </tr>\n",
       "  </thead>\n",
       "  <tbody>\n",
       "    <tr>\n",
       "      <td>0</td>\n",
       "      <td>1937 and prior</td>\n",
       "      <td>65</td>\n",
       "    </tr>\n",
       "    <tr>\n",
       "      <td>1</td>\n",
       "      <td>1938</td>\n",
       "      <td>65 and 2 months</td>\n",
       "    </tr>\n",
       "    <tr>\n",
       "      <td>2</td>\n",
       "      <td>1939</td>\n",
       "      <td>65 and 4 months</td>\n",
       "    </tr>\n",
       "    <tr>\n",
       "      <td>3</td>\n",
       "      <td>1940</td>\n",
       "      <td>65 and 6 months</td>\n",
       "    </tr>\n",
       "    <tr>\n",
       "      <td>4</td>\n",
       "      <td>1941</td>\n",
       "      <td>65 and 8 months</td>\n",
       "    </tr>\n",
       "    <tr>\n",
       "      <td>5</td>\n",
       "      <td>1942</td>\n",
       "      <td>65 and 10 months</td>\n",
       "    </tr>\n",
       "    <tr>\n",
       "      <td>6</td>\n",
       "      <td>1943-54</td>\n",
       "      <td>66</td>\n",
       "    </tr>\n",
       "    <tr>\n",
       "      <td>7</td>\n",
       "      <td>1955</td>\n",
       "      <td>66 and 2 months</td>\n",
       "    </tr>\n",
       "    <tr>\n",
       "      <td>8</td>\n",
       "      <td>1956</td>\n",
       "      <td>66 and 4 months</td>\n",
       "    </tr>\n",
       "    <tr>\n",
       "      <td>9</td>\n",
       "      <td>1957</td>\n",
       "      <td>66 and 6 months</td>\n",
       "    </tr>\n",
       "    <tr>\n",
       "      <td>10</td>\n",
       "      <td>1958</td>\n",
       "      <td>66 and 8 months</td>\n",
       "    </tr>\n",
       "    <tr>\n",
       "      <td>11</td>\n",
       "      <td>1959</td>\n",
       "      <td>66 and 10 months</td>\n",
       "    </tr>\n",
       "    <tr>\n",
       "      <td>12</td>\n",
       "      <td>1960 and later</td>\n",
       "      <td>67</td>\n",
       "    </tr>\n",
       "    <tr>\n",
       "      <td>13</td>\n",
       "      <td>Notes: 1. Persons born on January 1 of any yea...</td>\n",
       "      <td>Notes: 1. Persons born on January 1 of any yea...</td>\n",
       "    </tr>\n",
       "  </tbody>\n",
       "</table>\n",
       "</div>"
      ],
      "text/plain": [
       "                                        Year of birth  \\\n",
       "0                                      1937 and prior   \n",
       "1                                                1938   \n",
       "2                                                1939   \n",
       "3                                                1940   \n",
       "4                                                1941   \n",
       "5                                                1942   \n",
       "6                                             1943-54   \n",
       "7                                                1955   \n",
       "8                                                1956   \n",
       "9                                                1957   \n",
       "10                                               1958   \n",
       "11                                               1959   \n",
       "12                                     1960 and later   \n",
       "13  Notes: 1. Persons born on January 1 of any yea...   \n",
       "\n",
       "                                                  Age  \n",
       "0                                                  65  \n",
       "1                                     65 and 2 months  \n",
       "2                                     65 and 4 months  \n",
       "3                                     65 and 6 months  \n",
       "4                                     65 and 8 months  \n",
       "5                                    65 and 10 months  \n",
       "6                                                  66  \n",
       "7                                     66 and 2 months  \n",
       "8                                     66 and 4 months  \n",
       "9                                     66 and 6 months  \n",
       "10                                    66 and 8 months  \n",
       "11                                   66 and 10 months  \n",
       "12                                                 67  \n",
       "13  Notes: 1. Persons born on January 1 of any yea...  "
      ]
     },
     "execution_count": 11,
     "metadata": {},
     "output_type": "execute_result"
    }
   ],
   "source": [
    "social = pd.read_html('https://www.ssa.gov/oact/progdata/nra.html')\n",
    "social[0]"
   ]
  },
  {
   "cell_type": "code",
   "execution_count": 12,
   "metadata": {},
   "outputs": [],
   "source": [
    "def update(balance):\n",
    "    sum = (balance*2) + 100\n",
    "    return sum\n",
    "portfolio_update = ('updated portfolio = {} '.format(update))"
   ]
  },
  {
   "cell_type": "code",
   "execution_count": 13,
   "metadata": {},
   "outputs": [
    {
     "name": "stdout",
     "output_type": "stream",
     "text": [
      "    Stock  number of shares  price per share\n",
      "0  stock1                 3               23\n",
      "1  stock2                 4               35\n",
      "2  stock3                 2               44\n",
      "3  stock4                 6               33\n",
      "4  stock5                 7               12\n",
      "5  stock6                 9               55\n"
     ]
    }
   ],
   "source": [
    "print(portfolio)"
   ]
  },
  {
   "cell_type": "code",
   "execution_count": 14,
   "metadata": {},
   "outputs": [
    {
     "data": {
      "text/plain": [
       "0    146\n",
       "1    170\n",
       "2    188\n",
       "3    166\n",
       "4    124\n",
       "5    210\n",
       "Name: price per share, dtype: int64"
      ]
     },
     "execution_count": 14,
     "metadata": {},
     "output_type": "execute_result"
    }
   ],
   "source": [
    "result = portfolio['price per share'].apply(update)\n",
    "result"
   ]
  },
  {
   "cell_type": "code",
   "execution_count": 15,
   "metadata": {},
   "outputs": [
    {
     "data": {
      "text/plain": [
       "1004"
      ]
     },
     "execution_count": 15,
     "metadata": {},
     "output_type": "execute_result"
    }
   ],
   "source": [
    "result.sum()"
   ]
  },
  {
   "cell_type": "code",
   "execution_count": 16,
   "metadata": {},
   "outputs": [],
   "source": [
    "import matplotlib.pyplot as plt"
   ]
  },
  {
   "cell_type": "code",
   "execution_count": 17,
   "metadata": {},
   "outputs": [
    {
     "data": {
      "text/plain": [
       "<matplotlib.axes._subplots.AxesSubplot at 0x29012ede508>"
      ]
     },
     "execution_count": 17,
     "metadata": {},
     "output_type": "execute_result"
    },
    {
     "data": {
      "image/png": "[encoded data removed]",
      "text/plain": [
       "<Figure size 432x288 with 1 Axes>"
      ]
     },
     "metadata": {
      "needs_background": "light"
     },
     "output_type": "display_data"
    }
   ],
   "source": [
    "portfolio.plot(x='price per share', y='number of shares', label='stock prices', linewidth=3)"
   ]
  },
  {
   "cell_type": "code",
   "execution_count": 18,
   "metadata": {},
   "outputs": [
    {
     "data": {
      "text/plain": [
       "Text(0, 0.5, 'number')"
      ]
     },
     "execution_count": 18,
     "metadata": {},
     "output_type": "execute_result"
    },
    {
     "data": {
      "image/png": "[encoded data removed]",
      "text/plain": [
       "<Figure size 432x288 with 1 Axes>"
      ]
     },
     "metadata": {
      "needs_background": "light"
     },
     "output_type": "display_data"
    }
   ],
   "source": [
    "x = portfolio['price per share']\n",
    "y = portfolio['number of shares']\n",
    "plt.scatter(x, y)\n",
    "plt.scatter(x,y)\n",
    "plt.xlabel('price')\n",
    "plt.ylabel('number')"
   ]
  },
  {
   "cell_type": "code",
   "execution_count": 19,
   "metadata": {},
   "outputs": [
    {
     "data": {
      "text/plain": [
       "<matplotlib.collections.PathCollection at 0x29012ff4688>"
      ]
     },
     "execution_count": 19,
     "metadata": {},
     "output_type": "execute_result"
    },
    {
     "data": {
      "image/png": "[encoded data removed]",
      "text/plain": [
       "<Figure size 432x288 with 1 Axes>"
      ]
     },
     "metadata": {
      "needs_background": "light"
     },
     "output_type": "display_data"
    }
   ],
   "source": [
    "plt.scatter(portfolio['price per share'], portfolio['number of shares'])"
   ]
  },
  {
   "cell_type": "code",
   "execution_count": 20,
   "metadata": {},
   "outputs": [
    {
     "data": {
      "text/plain": [
       "Text(0.5, 1.0, 'Stock Volume')"
      ]
     },
     "execution_count": 20,
     "metadata": {},
     "output_type": "execute_result"
    },
    {
     "data": {
      "image/png": "[encoded data removed]",
      "text/plain": [
       "<Figure size 504x504 with 1 Axes>"
      ]
     },
     "metadata": {},
     "output_type": "display_data"
    }
   ],
   "source": [
    "import matplotlib.pyplot as plt\n",
    "\n",
    "values = [20, 20, 20, 20, 20]\n",
    "colors = ['g', 'r', 'y', 'b', 'm']\n",
    "labels = ['Apple', 'Google', 'Tesla', 'Amazon', 'Spotify']\n",
    "explode = [0,0.06,0,0.06,0]\n",
    "\n",
    "plt.figure(figsize=(7,7))\n",
    "plt.pie(values, colors = colors, labels = labels, explode = explode);\n",
    "plt.title('Stock Volume')"
   ]
  },
  {
   "cell_type": "code",
   "execution_count": 21,
   "metadata": {},
   "outputs": [
    {
     "data": {
      "text/plain": [
       "(array([1., 0., 0., 0., 0., 1., 0., 0., 0., 0., 0., 1., 0., 0., 0., 0., 0.,\n",
       "        0., 0., 0., 0., 0., 1., 0., 0., 0., 0., 0., 1., 0., 0., 0., 0., 0.,\n",
       "        0., 0., 0., 0., 0., 1.]),\n",
       " array([2.   , 2.175, 2.35 , 2.525, 2.7  , 2.875, 3.05 , 3.225, 3.4  ,\n",
       "        3.575, 3.75 , 3.925, 4.1  , 4.275, 4.45 , 4.625, 4.8  , 4.975,\n",
       "        5.15 , 5.325, 5.5  , 5.675, 5.85 , 6.025, 6.2  , 6.375, 6.55 ,\n",
       "        6.725, 6.9  , 7.075, 7.25 , 7.425, 7.6  , 7.775, 7.95 , 8.125,\n",
       "        8.3  , 8.475, 8.65 , 8.825, 9.   ]),\n",
       " <a list of 40 Patch objects>)"
      ]
     },
     "execution_count": 21,
     "metadata": {},
     "output_type": "execute_result"
    },
    {
     "data": {
      "image/png": "[encoded data removed]",
      "text/plain": [
       "<Figure size 504x360 with 1 Axes>"
      ]
     },
     "metadata": {
      "needs_background": "light"
     },
     "output_type": "display_data"
    }
   ],
   "source": [
    "num_bins = 40\n",
    "plt.figure(figsize = (7, 5))\n",
    "plt.hist(portfolio['number of shares'], num_bins)"
   ]
  },
  {
   "cell_type": "code",
   "execution_count": 24,
   "metadata": {},
   "outputs": [],
   "source": [
    "from sklearn.datasets import load_breast_cancer\n",
    "cancer = load_breast_cancer()"
   ]
  },
  {
   "cell_type": "code",
   "execution_count": 25,
   "metadata": {},
   "outputs": [
    {
     "data": {
      "text/plain": [
       "{'data': array([[1.799e+01, 1.038e+01, 1.228e+02, ..., 2.654e-01, 4.601e-01,\n",
       "         1.189e-01],\n",
       "        [2.057e+01, 1.777e+01, 1.329e+02, ..., 1.860e-01, 2.750e-01,\n",
       "         8.902e-02],\n",
       "        [1.969e+01, 2.125e+01, 1.300e+02, ..., 2.430e-01, 3.613e-01,\n",
       "         8.758e-02],\n",
       "        ...,\n",
       "        [1.660e+01, 2.808e+01, 1.083e+02, ..., 1.418e-01, 2.218e-01,\n",
       "         7.820e-02],\n",
       "        [2.060e+01, 2.933e+01, 1.401e+02, ..., 2.650e-01, 4.087e-01,\n",
       "         1.240e-01],\n",
       "        [7.760e+00, 2.454e+01, 4.792e+01, ..., 0.000e+00, 2.871e-01,\n",
       "         7.039e-02]]),\n",
       " 'target': array([0, 0, 0, 0, 0, 0, 0, 0, 0, 0, 0, 0, 0, 0, 0, 0, 0, 0, 0, 1, 1, 1,\n",
       "        0, 0, 0, 0, 0, 0, 0, 0, 0, 0, 0, 0, 0, 0, 0, 1, 0, 0, 0, 0, 0, 0,\n",
       "        0, 0, 1, 0, 1, 1, 1, 1, 1, 0, 0, 1, 0, 0, 1, 1, 1, 1, 0, 1, 0, 0,\n",
       "        1, 1, 1, 1, 0, 1, 0, 0, 1, 0, 1, 0, 0, 1, 1, 1, 0, 0, 1, 0, 0, 0,\n",
       "        1, 1, 1, 0, 1, 1, 0, 0, 1, 1, 1, 0, 0, 1, 1, 1, 1, 0, 1, 1, 0, 1,\n",
       "        1, 1, 1, 1, 1, 1, 1, 0, 0, 0, 1, 0, 0, 1, 1, 1, 0, 0, 1, 0, 1, 0,\n",
       "        0, 1, 0, 0, 1, 1, 0, 1, 1, 0, 1, 1, 1, 1, 0, 1, 1, 1, 1, 1, 1, 1,\n",
       "        1, 1, 0, 1, 1, 1, 1, 0, 0, 1, 0, 1, 1, 0, 0, 1, 1, 0, 0, 1, 1, 1,\n",
       "        1, 0, 1, 1, 0, 0, 0, 1, 0, 1, 0, 1, 1, 1, 0, 1, 1, 0, 0, 1, 0, 0,\n",
       "        0, 0, 1, 0, 0, 0, 1, 0, 1, 0, 1, 1, 0, 1, 0, 0, 0, 0, 1, 1, 0, 0,\n",
       "        1, 1, 1, 0, 1, 1, 1, 1, 1, 0, 0, 1, 1, 0, 1, 1, 0, 0, 1, 0, 1, 1,\n",
       "        1, 1, 0, 1, 1, 1, 1, 1, 0, 1, 0, 0, 0, 0, 0, 0, 0, 0, 0, 0, 0, 0,\n",
       "        0, 0, 1, 1, 1, 1, 1, 1, 0, 1, 0, 1, 1, 0, 1, 1, 0, 1, 0, 0, 1, 1,\n",
       "        1, 1, 1, 1, 1, 1, 1, 1, 1, 1, 1, 0, 1, 1, 0, 1, 0, 1, 1, 1, 1, 1,\n",
       "        1, 1, 1, 1, 1, 1, 1, 1, 1, 0, 1, 1, 1, 0, 1, 0, 1, 1, 1, 1, 0, 0,\n",
       "        0, 1, 1, 1, 1, 0, 1, 0, 1, 0, 1, 1, 1, 0, 1, 1, 1, 1, 1, 1, 1, 0,\n",
       "        0, 0, 1, 1, 1, 1, 1, 1, 1, 1, 1, 1, 1, 0, 0, 1, 0, 0, 0, 1, 0, 0,\n",
       "        1, 1, 1, 1, 1, 0, 1, 1, 1, 1, 1, 0, 1, 1, 1, 0, 1, 1, 0, 0, 1, 1,\n",
       "        1, 1, 1, 1, 0, 1, 1, 1, 1, 1, 1, 1, 0, 1, 1, 1, 1, 1, 0, 1, 1, 0,\n",
       "        1, 1, 1, 1, 1, 1, 1, 1, 1, 1, 1, 1, 0, 1, 0, 0, 1, 0, 1, 1, 1, 1,\n",
       "        1, 0, 1, 1, 0, 1, 0, 1, 1, 0, 1, 0, 1, 1, 1, 1, 1, 1, 1, 1, 0, 0,\n",
       "        1, 1, 1, 1, 1, 1, 0, 1, 1, 1, 1, 1, 1, 1, 1, 1, 1, 0, 1, 1, 1, 1,\n",
       "        1, 1, 1, 0, 1, 0, 1, 1, 0, 1, 1, 1, 1, 1, 0, 0, 1, 0, 1, 0, 1, 1,\n",
       "        1, 1, 1, 0, 1, 1, 0, 1, 0, 1, 0, 0, 1, 1, 1, 0, 1, 1, 1, 1, 1, 1,\n",
       "        1, 1, 1, 1, 1, 0, 1, 0, 0, 1, 1, 1, 1, 1, 1, 1, 1, 1, 1, 1, 1, 1,\n",
       "        1, 1, 1, 1, 1, 1, 1, 1, 1, 1, 1, 1, 0, 0, 0, 0, 0, 0, 1]),\n",
       " 'target_names': array(['malignant', 'benign'], dtype='<U9'),\n",
       " 'DESCR': '.. _breast_cancer_dataset:\\n\\nBreast cancer wisconsin (diagnostic) dataset\\n--------------------------------------------\\n\\n**Data Set Characteristics:**\\n\\n    :Number of Instances: 569\\n\\n    :Number of Attributes: 30 numeric, predictive attributes and the class\\n\\n    :Attribute Information:\\n        - radius (mean of distances from center to points on the perimeter)\\n        - texture (standard deviation of gray-scale values)\\n        - perimeter\\n        - area\\n        - smoothness (local variation in radius lengths)\\n        - compactness (perimeter^2 / area - 1.0)\\n        - concavity (severity of concave portions of the contour)\\n        - concave points (number of concave portions of the contour)\\n        - symmetry \\n        - fractal dimension (\"coastline approximation\" - 1)\\n\\n        The mean, standard error, and \"worst\" or largest (mean of the three\\n        largest values) of these features were computed for each image,\\n        resulting in 30 features.  For instance, field 3 is Mean Radius, field\\n        13 is Radius SE, field 23 is Worst Radius.\\n\\n        - class:\\n                - WDBC-Malignant\\n                - WDBC-Benign\\n\\n    :Summary Statistics:\\n\\n    ===================================== ====== ======\\n                                           Min    Max\\n    ===================================== ====== ======\\n    radius (mean):                        6.981  28.11\\n    texture (mean):                       9.71   39.28\\n    perimeter (mean):                     43.79  188.5\\n    area (mean):                          143.5  2501.0\\n    smoothness (mean):                    0.053  0.163\\n    compactness (mean):                   0.019  0.345\\n    concavity (mean):                     0.0    0.427\\n    concave points (mean):                0.0    0.201\\n    symmetry (mean):                      0.106  0.304\\n    fractal dimension (mean):             0.05   0.097\\n    radius (standard error):              0.112  2.873\\n    texture (standard error):             0.36   4.885\\n    perimeter (standard error):           0.757  21.98\\n    area (standard error):                6.802  542.2\\n    smoothness (standard error):          0.002  0.031\\n    compactness (standard error):         0.002  0.135\\n    concavity (standard error):           0.0    0.396\\n    concave points (standard error):      0.0    0.053\\n    symmetry (standard error):            0.008  0.079\\n    fractal dimension (standard error):   0.001  0.03\\n    radius (worst):                       7.93   36.04\\n    texture (worst):                      12.02  49.54\\n    perimeter (worst):                    50.41  251.2\\n    area (worst):                         185.2  4254.0\\n    smoothness (worst):                   0.071  0.223\\n    compactness (worst):                  0.027  1.058\\n    concavity (worst):                    0.0    1.252\\n    concave points (worst):               0.0    0.291\\n    symmetry (worst):                     0.156  0.664\\n    fractal dimension (worst):            0.055  0.208\\n    ===================================== ====== ======\\n\\n    :Missing Attribute Values: None\\n\\n    :Class Distribution: 212 - Malignant, 357 - Benign\\n\\n    :Creator:  Dr. William H. Wolberg, W. Nick Street, Olvi L. Mangasarian\\n\\n    :Donor: Nick Street\\n\\n    :Date: November, 1995\\n\\nThis is a copy of UCI ML Breast Cancer Wisconsin (Diagnostic) datasets.\\nhttps://goo.gl/U2Uwz2\\n\\nFeatures are computed from a digitized image of a fine needle\\naspirate (FNA) of a breast mass.  They describe\\ncharacteristics of the cell nuclei present in the image.\\n\\nSeparating plane described above was obtained using\\nMultisurface Method-Tree (MSM-T) [K. P. Bennett, \"Decision Tree\\nConstruction Via Linear Programming.\" Proceedings of the 4th\\nMidwest Artificial Intelligence and Cognitive Science Society,\\npp. 97-101, 1992], a classification method which uses linear\\nprogramming to construct a decision tree.  Relevant features\\nwere selected using an exhaustive search in the space of 1-4\\nfeatures and 1-3 separating planes.\\n\\nThe actual linear program used to obtain the separating plane\\nin the 3-dimensional space is that described in:\\n[K. P. Bennett and O. L. Mangasarian: \"Robust Linear\\nProgramming Discrimination of Two Linearly Inseparable Sets\",\\nOptimization Methods and Software 1, 1992, 23-34].\\n\\nThis database is also available through the UW CS ftp server:\\n\\nftp ftp.cs.wisc.edu\\ncd math-prog/cpo-dataset/machine-learn/WDBC/\\n\\n.. topic:: References\\n\\n   - W.N. Street, W.H. Wolberg and O.L. Mangasarian. Nuclear feature extraction \\n     for breast tumor diagnosis. IS&T/SPIE 1993 International Symposium on \\n     Electronic Imaging: Science and Technology, volume 1905, pages 861-870,\\n     San Jose, CA, 1993.\\n   - O.L. Mangasarian, W.N. Street and W.H. Wolberg. Breast cancer diagnosis and \\n     prognosis via linear programming. Operations Research, 43(4), pages 570-577, \\n     July-August 1995.\\n   - W.H. Wolberg, W.N. Street, and O.L. Mangasarian. Machine learning techniques\\n     to diagnose breast cancer from fine-needle aspirates. Cancer Letters 77 (1994) \\n     163-171.',\n",
       " 'feature_names': array(['mean radius', 'mean texture', 'mean perimeter', 'mean area',\n",
       "        'mean smoothness', 'mean compactness', 'mean concavity',\n",
       "        'mean concave points', 'mean symmetry', 'mean fractal dimension',\n",
       "        'radius error', 'texture error', 'perimeter error', 'area error',\n",
       "        'smoothness error', 'compactness error', 'concavity error',\n",
       "        'concave points error', 'symmetry error',\n",
       "        'fractal dimension error', 'worst radius', 'worst texture',\n",
       "        'worst perimeter', 'worst area', 'worst smoothness',\n",
       "        'worst compactness', 'worst concavity', 'worst concave points',\n",
       "        'worst symmetry', 'worst fractal dimension'], dtype='<U23'),\n",
       " 'filename': 'C:\\\\Users\\\\suhai\\\\Anaconda3\\\\lib\\\\site-packages\\\\sklearn\\\\datasets\\\\data\\\\breast_cancer.csv'}"
      ]
     },
     "execution_count": 25,
     "metadata": {},
     "output_type": "execute_result"
    }
   ],
   "source": [
    "cancer"
   ]
  },
  {
   "cell_type": "code",
   "execution_count": null,
   "metadata": {},
   "outputs": [],
   "source": []
  }
 ],
 "metadata": {
  "kernelspec": {
   "display_name": "Python 3",
   "language": "python",
   "name": "python3"
  },
  "language_info": {
   "codemirror_mode": {
    "name": "ipython",
    "version": 3
   },
   "file_extension": ".py",
   "mimetype": "text/x-python",
   "name": "python",
   "nbconvert_exporter": "python",
   "pygments_lexer": "ipython3",
   "version": "3.7.4"
  }
 },
 "nbformat": 4,
 "nbformat_minor": 2
}
